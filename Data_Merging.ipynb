{
 "cells": [
  {
   "cell_type": "markdown",
   "id": "80abd362-650c-4102-8a2a-5be7724410cb",
   "metadata": {},
   "source": [
    "So we have all our seasons worth of data and our season stats. Now I want to create a single dataset that can be split into a testing and training data"
   ]
  },
  {
   "cell_type": "code",
   "execution_count": null,
   "id": "eee97971-b0a5-4836-a2ad-ed6331657e4d",
   "metadata": {},
   "outputs": [],
   "source": []
  }
 ],
 "metadata": {
  "kernelspec": {
   "display_name": "Python 3 (ipykernel)",
   "language": "python",
   "name": "python3"
  },
  "language_info": {
   "codemirror_mode": {
    "name": "ipython",
    "version": 3
   },
   "file_extension": ".py",
   "mimetype": "text/x-python",
   "name": "python",
   "nbconvert_exporter": "python",
   "pygments_lexer": "ipython3",
   "version": "3.11.4"
  }
 },
 "nbformat": 4,
 "nbformat_minor": 5
}
