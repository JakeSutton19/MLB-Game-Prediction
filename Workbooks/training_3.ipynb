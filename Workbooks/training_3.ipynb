{
 "cells": [
  {
   "cell_type": "code",
   "execution_count": 1,
   "id": "acd93690-f5b3-4a5f-8b9e-462778d191c9",
   "metadata": {},
   "outputs": [],
   "source": [
    "import pandas as pd"
   ]
  },
  {
   "cell_type": "code",
   "execution_count": 2,
   "id": "e35ab27e-4a8e-47f4-931c-6bc7912ecbb5",
   "metadata": {},
   "outputs": [
    {
     "data": {
      "text/plain": [
       "Index(['y-m-d', 'GameID', 'Time_Min', 'Team', 'Opp', 'R', 'RA', 'total_wins',\n",
       "       'total_losses', 'Total_Innings', 'Walkoff', 'Streaks', 'Rank', 'GB',\n",
       "       'Attendance', 'champ_lev_index', 'is_day_game', 'is_night_game',\n",
       "       'Outcome', 'Season', 'players_used', 'BatAge', 'R/G', 'G', 'PA', 'AB',\n",
       "       'runs_scored', 'H', '2B', '3B', 'HR', 'RBI', 'SB', 'CS', 'BB', 'SO',\n",
       "       'BA', 'OBP', 'SLG', 'OPS', 'OPS+', 'TB', 'GDP', 'HBP', 'SH', 'SF',\n",
       "       'IBB', 'LOB', 'Unnamed: 0_x', 'PAge', 'RA/G_x', 'W', 'L', 'W-L%', 'ERA',\n",
       "       'GS', 'GF', 'CG', 'tSho', 'cSho', 'SV', 'IP', 'ER', 'BK', 'WP', 'BF',\n",
       "       'ERA+', 'FIP', 'WHIP', 'H9', 'HR9', 'BB9', 'SO9', 'SO/W',\n",
       "       'pitchers_used', 'runs_allowed', 'hits_allowed', 'hr_allowed',\n",
       "       'walks_allowed', 'int_wlk_allowed', 'hbp_allowed', 'pitch_so',\n",
       "       'pitch_LOB', 'Unnamed: 0_y', '#Fld', 'RA/G_y', 'DefEff', 'PO', 'A', 'E',\n",
       "       'DP', 'Fld%', 'Rtot', 'Rtot/yr', 'Rdrs/yr', 'Rgood', 'def_chances'],\n",
       "      dtype='object')"
      ]
     },
     "execution_count": 2,
     "metadata": {},
     "output_type": "execute_result"
    }
   ],
   "source": [
    "games = pd.read_csv(\"data/SEASON_DATA.csv\", index_col=0)\n",
    "\n",
    "\n",
    "games.columns"
   ]
  },
  {
   "cell_type": "code",
   "execution_count": 3,
   "id": "2081ba95-8be3-4fca-bb72-fcfe8b06f5de",
   "metadata": {},
   "outputs": [],
   "source": [
    "del games[\"Unnamed: 0_x\"]\n",
    "del games[\"Unnamed: 0_y\"]\n",
    "\n",
    "games[\"Season_Wins\"] = games[\"total_wins\"].shift(+1)\n",
    "games[\"Season_Loses\"] = games[\"total_losses\"].shift(+1)\n",
    "games[\"previous_game_time\"] = games[\"Time_Min\"].shift(+1)\n",
    "games[\"previous_runs_scored\"] = games[\"R\"].shift(+1)\n",
    "games[\"previous_runs_allowed\"] = games[\"RA\"].shift(+1)\n",
    "games[\"previous_innings_played\"] = games[\"Total_Innings\"].shift(+1)\n",
    "games[\"current_streak\"] = games[\"Streaks\"].shift(+1)\n",
    "games[\"rank\"] = games[\"Rank\"].shift(+1)\n",
    "games[\"gb\"] = games[\"GB\"].shift(+1)\n",
    "games[\"previous_attendance\"] = games[\"Attendance\"].shift(+1)\n",
    "\n",
    "del games[\"total_wins\"]\n",
    "del games[\"total_losses\"]\n",
    "del games[\"Time_Min\"]\n",
    "del games[\"R\"]\n",
    "del games[\"RA\"]\n",
    "del games[\"Total_Innings\"]\n",
    "del games[\"Streaks\"]\n",
    "del games[\"Rank\"]\n",
    "del games[\"GB\"]\n",
    "del games[\"Attendance\"]\n",
    "del games[\"Walkoff\"]\n",
    "del games[\"Season\"]"
   ]
  },
  {
   "cell_type": "code",
   "execution_count": 4,
   "id": "440f4f43-c558-4360-8498-fe842cb9f69a",
   "metadata": {},
   "outputs": [],
   "source": [
    "games = games.fillna(0)\n",
    "games[\"y-m-d\"] = pd.to_datetime(games[\"y-m-d\"])\n",
    "games[\"team_code\"] = games[\"Team\"].astype(\"category\").cat.codes\n",
    "games[\"opp_code\"] = games[\"Opp\"].astype(\"category\").cat.codes"
   ]
  },
  {
   "cell_type": "code",
   "execution_count": 5,
   "id": "a0f83176-4a26-455b-8b5f-bd401b5ce35f",
   "metadata": {},
   "outputs": [],
   "source": [
    "games = games[['y-m-d', 'GameID', 'team_code', 'opp_code', 'Season_Wins',\n",
    "       'Season_Loses', 'previous_game_time', 'previous_runs_scored',\n",
    "       'previous_runs_allowed', 'previous_innings_played', 'current_streak',\n",
    "       'rank', 'gb', 'previous_attendance', 'champ_lev_index', 'is_day_game',\n",
    "       'is_night_game', 'players_used', 'BatAge', 'R/G',\n",
    "       'G', 'PA', 'AB', 'runs_scored', 'H', '2B', '3B', 'HR', 'RBI', 'SB',\n",
    "       'CS', 'BB', 'SO', 'BA', 'OBP', 'SLG', 'OPS', 'OPS+', 'TB', 'GDP', 'HBP',\n",
    "       'SH', 'SF', 'IBB', 'LOB', 'PAge', 'RA/G_x', 'W', 'L', 'W-L%', 'ERA',\n",
    "       'GS', 'GF', 'CG', 'tSho', 'cSho', 'SV', 'IP', 'ER', 'BK', 'WP', 'BF',\n",
    "       'ERA+', 'FIP', 'WHIP', 'H9', 'HR9', 'BB9', 'SO9', 'SO/W',\n",
    "       'pitchers_used', 'runs_allowed', 'hits_allowed', 'hr_allowed',\n",
    "       'walks_allowed', 'int_wlk_allowed', 'hbp_allowed', 'pitch_so',\n",
    "       'pitch_LOB', '#Fld', 'RA/G_y', 'DefEff', 'PO', 'A', 'E', 'DP', 'Fld%',\n",
    "       'Rtot', 'Rtot/yr', 'Rdrs/yr', 'Rgood', 'def_chances', 'Outcome']]\n",
    "games = games.copy()"
   ]
  },
  {
   "cell_type": "code",
   "execution_count": 17,
   "id": "b067e094-b788-41cd-a872-d3d6c9988c38",
   "metadata": {},
   "outputs": [],
   "source": [
    "from sklearn.ensemble import RandomForestClassifier\n",
    "\n",
    "rf = RandomForestClassifier(n_estimators=1000, min_samples_split=50, random_state=1)\n",
    "\n",
    "train = games[games[\"y-m-d\"] < '2022-01-01']\n",
    "test = games[games[\"y-m-d\"] > '2022-01-01']\n"
   ]
  },
  {
   "cell_type": "code",
   "execution_count": 18,
   "id": "053b9a9f-99a6-418b-a08f-f8c8e1f4af4d",
   "metadata": {},
   "outputs": [],
   "source": [
    "predictors = [\"opp_code\", \"is_day_game\", 'Season_Wins','Season_Loses', 'previous_game_time', 'previous_runs_scored',\n",
    "              'previous_runs_allowed', 'previous_innings_played', 'current_streak', 'rank']"
   ]
  },
  {
   "cell_type": "code",
   "execution_count": 19,
   "id": "14353e76-fb60-475f-9afd-7cd315e6b049",
   "metadata": {},
   "outputs": [
    {
     "data": {
      "text/html": [
       "<style>#sk-container-id-4 {color: black;background-color: white;}#sk-container-id-4 pre{padding: 0;}#sk-container-id-4 div.sk-toggleable {background-color: white;}#sk-container-id-4 label.sk-toggleable__label {cursor: pointer;display: block;width: 100%;margin-bottom: 0;padding: 0.3em;box-sizing: border-box;text-align: center;}#sk-container-id-4 label.sk-toggleable__label-arrow:before {content: \"▸\";float: left;margin-right: 0.25em;color: #696969;}#sk-container-id-4 label.sk-toggleable__label-arrow:hover:before {color: black;}#sk-container-id-4 div.sk-estimator:hover label.sk-toggleable__label-arrow:before {color: black;}#sk-container-id-4 div.sk-toggleable__content {max-height: 0;max-width: 0;overflow: hidden;text-align: left;background-color: #f0f8ff;}#sk-container-id-4 div.sk-toggleable__content pre {margin: 0.2em;color: black;border-radius: 0.25em;background-color: #f0f8ff;}#sk-container-id-4 input.sk-toggleable__control:checked~div.sk-toggleable__content {max-height: 200px;max-width: 100%;overflow: auto;}#sk-container-id-4 input.sk-toggleable__control:checked~label.sk-toggleable__label-arrow:before {content: \"▾\";}#sk-container-id-4 div.sk-estimator input.sk-toggleable__control:checked~label.sk-toggleable__label {background-color: #d4ebff;}#sk-container-id-4 div.sk-label input.sk-toggleable__control:checked~label.sk-toggleable__label {background-color: #d4ebff;}#sk-container-id-4 input.sk-hidden--visually {border: 0;clip: rect(1px 1px 1px 1px);clip: rect(1px, 1px, 1px, 1px);height: 1px;margin: -1px;overflow: hidden;padding: 0;position: absolute;width: 1px;}#sk-container-id-4 div.sk-estimator {font-family: monospace;background-color: #f0f8ff;border: 1px dotted black;border-radius: 0.25em;box-sizing: border-box;margin-bottom: 0.5em;}#sk-container-id-4 div.sk-estimator:hover {background-color: #d4ebff;}#sk-container-id-4 div.sk-parallel-item::after {content: \"\";width: 100%;border-bottom: 1px solid gray;flex-grow: 1;}#sk-container-id-4 div.sk-label:hover label.sk-toggleable__label {background-color: #d4ebff;}#sk-container-id-4 div.sk-serial::before {content: \"\";position: absolute;border-left: 1px solid gray;box-sizing: border-box;top: 0;bottom: 0;left: 50%;z-index: 0;}#sk-container-id-4 div.sk-serial {display: flex;flex-direction: column;align-items: center;background-color: white;padding-right: 0.2em;padding-left: 0.2em;position: relative;}#sk-container-id-4 div.sk-item {position: relative;z-index: 1;}#sk-container-id-4 div.sk-parallel {display: flex;align-items: stretch;justify-content: center;background-color: white;position: relative;}#sk-container-id-4 div.sk-item::before, #sk-container-id-4 div.sk-parallel-item::before {content: \"\";position: absolute;border-left: 1px solid gray;box-sizing: border-box;top: 0;bottom: 0;left: 50%;z-index: -1;}#sk-container-id-4 div.sk-parallel-item {display: flex;flex-direction: column;z-index: 1;position: relative;background-color: white;}#sk-container-id-4 div.sk-parallel-item:first-child::after {align-self: flex-end;width: 50%;}#sk-container-id-4 div.sk-parallel-item:last-child::after {align-self: flex-start;width: 50%;}#sk-container-id-4 div.sk-parallel-item:only-child::after {width: 0;}#sk-container-id-4 div.sk-dashed-wrapped {border: 1px dashed gray;margin: 0 0.4em 0.5em 0.4em;box-sizing: border-box;padding-bottom: 0.4em;background-color: white;}#sk-container-id-4 div.sk-label label {font-family: monospace;font-weight: bold;display: inline-block;line-height: 1.2em;}#sk-container-id-4 div.sk-label-container {text-align: center;}#sk-container-id-4 div.sk-container {/* jupyter's `normalize.less` sets `[hidden] { display: none; }` but bootstrap.min.css set `[hidden] { display: none !important; }` so we also need the `!important` here to be able to override the default hidden behavior on the sphinx rendered scikit-learn.org. See: https://github.com/scikit-learn/scikit-learn/issues/21755 */display: inline-block !important;position: relative;}#sk-container-id-4 div.sk-text-repr-fallback {display: none;}</style><div id=\"sk-container-id-4\" class=\"sk-top-container\"><div class=\"sk-text-repr-fallback\"><pre>RandomForestClassifier(min_samples_split=50, n_estimators=1000, random_state=1)</pre><b>In a Jupyter environment, please rerun this cell to show the HTML representation or trust the notebook. <br />On GitHub, the HTML representation is unable to render, please try loading this page with nbviewer.org.</b></div><div class=\"sk-container\" hidden><div class=\"sk-item\"><div class=\"sk-estimator sk-toggleable\"><input class=\"sk-toggleable__control sk-hidden--visually\" id=\"sk-estimator-id-4\" type=\"checkbox\" checked><label for=\"sk-estimator-id-4\" class=\"sk-toggleable__label sk-toggleable__label-arrow\">RandomForestClassifier</label><div class=\"sk-toggleable__content\"><pre>RandomForestClassifier(min_samples_split=50, n_estimators=1000, random_state=1)</pre></div></div></div></div></div>"
      ],
      "text/plain": [
       "RandomForestClassifier(min_samples_split=50, n_estimators=1000, random_state=1)"
      ]
     },
     "execution_count": 19,
     "metadata": {},
     "output_type": "execute_result"
    }
   ],
   "source": [
    "rf.fit(train[predictors], train[\"Outcome\"])"
   ]
  },
  {
   "cell_type": "code",
   "execution_count": 20,
   "id": "b2aed8cb-e195-41d4-b1e2-beec04f8cb85",
   "metadata": {},
   "outputs": [],
   "source": [
    "preds = rf.predict(test[predictors])"
   ]
  },
  {
   "cell_type": "code",
   "execution_count": 21,
   "id": "1125e8ff-39dc-4cdf-aef1-58a8c180f58f",
   "metadata": {},
   "outputs": [
    {
     "data": {
      "text/plain": [
       "0.5475308641975308"
      ]
     },
     "execution_count": 21,
     "metadata": {},
     "output_type": "execute_result"
    }
   ],
   "source": [
    "from sklearn.metrics import accuracy_score\n",
    "\n",
    "error = accuracy_score(test[\"Outcome\"], preds)\n",
    "error"
   ]
  },
  {
   "cell_type": "code",
   "execution_count": 22,
   "id": "550050bc-3d1c-47cc-93b2-927accd5d63f",
   "metadata": {},
   "outputs": [],
   "source": [
    "combined = pd.DataFrame(dict(actual=test[\"Outcome\"], predicted=preds))"
   ]
  },
  {
   "cell_type": "code",
   "execution_count": 23,
   "id": "bb109cd9-de4f-4866-aea7-dcf9afd5c934",
   "metadata": {},
   "outputs": [
    {
     "data": {
      "text/html": [
       "<div>\n",
       "<style scoped>\n",
       "    .dataframe tbody tr th:only-of-type {\n",
       "        vertical-align: middle;\n",
       "    }\n",
       "\n",
       "    .dataframe tbody tr th {\n",
       "        vertical-align: top;\n",
       "    }\n",
       "\n",
       "    .dataframe thead th {\n",
       "        text-align: right;\n",
       "    }\n",
       "</style>\n",
       "<table border=\"1\" class=\"dataframe\">\n",
       "  <thead>\n",
       "    <tr style=\"text-align: right;\">\n",
       "      <th>predicted</th>\n",
       "      <th>0</th>\n",
       "      <th>1</th>\n",
       "    </tr>\n",
       "    <tr>\n",
       "      <th>actual</th>\n",
       "      <th></th>\n",
       "      <th></th>\n",
       "    </tr>\n",
       "  </thead>\n",
       "  <tbody>\n",
       "    <tr>\n",
       "      <th>0</th>\n",
       "      <td>1345</td>\n",
       "      <td>1085</td>\n",
       "    </tr>\n",
       "    <tr>\n",
       "      <th>1</th>\n",
       "      <td>1114</td>\n",
       "      <td>1316</td>\n",
       "    </tr>\n",
       "  </tbody>\n",
       "</table>\n",
       "</div>"
      ],
      "text/plain": [
       "predicted     0     1\n",
       "actual               \n",
       "0          1345  1085\n",
       "1          1114  1316"
      ]
     },
     "execution_count": 23,
     "metadata": {},
     "output_type": "execute_result"
    }
   ],
   "source": [
    "pd.crosstab(index=combined[\"actual\"], columns=combined[\"predicted\"])"
   ]
  },
  {
   "cell_type": "code",
   "execution_count": 25,
   "id": "b649021c-8c07-4c4b-8b0b-126dbc705c81",
   "metadata": {},
   "outputs": [
    {
     "data": {
      "text/plain": [
       "0.5481049562682215"
      ]
     },
     "execution_count": 25,
     "metadata": {},
     "output_type": "execute_result"
    }
   ],
   "source": [
    "from sklearn.metrics import precision_score\n",
    "\n",
    "precision_score(test[\"Outcome\"], preds)"
   ]
  },
  {
   "cell_type": "code",
   "execution_count": null,
   "id": "bc69c7d4-c0d8-4ccb-912f-de6cab75ff2b",
   "metadata": {},
   "outputs": [],
   "source": []
  }
 ],
 "metadata": {
  "kernelspec": {
   "display_name": "Python 3 (ipykernel)",
   "language": "python",
   "name": "python3"
  },
  "language_info": {
   "codemirror_mode": {
    "name": "ipython",
    "version": 3
   },
   "file_extension": ".py",
   "mimetype": "text/x-python",
   "name": "python",
   "nbconvert_exporter": "python",
   "pygments_lexer": "ipython3",
   "version": "3.11.4"
  }
 },
 "nbformat": 4,
 "nbformat_minor": 5
}
