{
 "cells": [
  {
   "cell_type": "code",
   "execution_count": 1,
   "id": "883db01b-c524-4d55-b672-bd7b1b2b4c31",
   "metadata": {},
   "outputs": [],
   "source": [
    "import numpy as np\n",
    "import pandas as pd\n",
    "import matplotlib.pyplot as plt\n",
    "\n",
    "import lightgbm as lgbm\n",
    "import structureboost as stb\n",
    "import ml_insights as mli\n",
    "from structureboost import log_loss"
   ]
  },
  {
   "cell_type": "code",
   "execution_count": 2,
   "id": "1e70322e-a98a-48be-a07e-40aca29bbe6a",
   "metadata": {},
   "outputs": [
    {
     "name": "stderr",
     "output_type": "stream",
     "text": [
      "/tmp/ipykernel_13382/623349023.py:1: DtypeWarning: Columns (13,14,15,19,85,87,159,198) have mixed types. Specify dtype option on import or set low_memory=False.\n",
      "  df=pd.read_csv('Data/df_bp9.csv')\n"
     ]
    }
   ],
   "source": [
    "df=pd.read_csv('Data/df_bp9.csv')"
   ]
  },
  {
   "cell_type": "code",
   "execution_count": 3,
   "id": "baa4ab1e-3214-4af3-9339-c9408bb0c185",
   "metadata": {},
   "outputs": [
    {
     "data": {
      "text/plain": [
       "(96215, 1235)"
      ]
     },
     "execution_count": 3,
     "metadata": {},
     "output_type": "execute_result"
    }
   ],
   "source": [
    "df = df[df.run_diff!=0]\n",
    "df_train = df[(df.season>1980) & (df.season<=2018) & ~(df.OBP_162_h.isnull())]\n",
    "df_valid = df[(df.season>=2019) & (df.season<=2020)]\n",
    "df_test = df[df.season>=2021]\n",
    "df_test_val = df[df.season>=2019]\n",
    "df.shape"
   ]
  },
  {
   "cell_type": "code",
   "execution_count": 4,
   "id": "37820324-20d7-4975-8b2e-cc4086fa373e",
   "metadata": {},
   "outputs": [
    {
     "data": {
      "text/plain": [
       "0.5391635426429241"
      ]
     },
     "execution_count": 4,
     "metadata": {},
     "output_type": "execute_result"
    }
   ],
   "source": [
    "hv_mean = df_train.home_victory.mean()\n",
    "hv_mean"
   ]
  },
  {
   "cell_type": "code",
   "execution_count": 5,
   "id": "563b81c8-fb11-4791-9779-7d94c7a60118",
   "metadata": {},
   "outputs": [],
   "source": [
    "target = 'home_victory'\n",
    "\n",
    "y_train = df_train[target].to_numpy()\n",
    "y_valid = df_valid[target].to_numpy()\n",
    "y_test = df_test[target].to_numpy()"
   ]
  },
  {
   "cell_type": "code",
   "execution_count": 6,
   "id": "0ba85ec3-fd0b-4be9-9f3f-a3be5603d395",
   "metadata": {},
   "outputs": [],
   "source": [
    "def try_features(feat_set, max_depth=2):\n",
    "    target = 'home_victory'\n",
    "    X_train = df_train.loc[:,feat_set]\n",
    "    X_valid = df_valid.loc[:,feat_set]\n",
    "    X_test = df_test.loc[:,feat_set]\n",
    "\n",
    "\n",
    "\n",
    "    lgbm1 = lgbm.LGBMClassifier(n_estimators=1000, learning_rate=.02, max_depth=max_depth)\n",
    "    lgbm1.fit(X_train, y_train, eval_set=(X_valid, y_valid), eval_metric='logloss', \n",
    "          callbacks=[lgbm.early_stopping(stopping_rounds=50)])\n",
    "    \n",
    "    preds_lgbm_test = lgbm1.predict_proba(X_test)[:,1]\n",
    "    ll_test = log_loss(y_test, preds_lgbm_test)\n",
    "\n",
    "    print(f'\\nVegas probs: {log_loss(y_test,df_test.implied_prob_h_mid)} on test')\n",
    "    print(f'model probs: {ll_test} on test')\n",
    "\n",
    "    print(f'\\nDifference: {ll_test - log_loss(y_test,df_test.implied_prob_h_mid)} on test')\n",
    "\n",
    "    sv_lgbm = lgbm1.predict(X_test, pred_contrib=True)\n",
    "    sv_lgbm = pd.DataFrame(sv_lgbm)\n",
    "    sv_lgbm.columns = list(X_test.columns)+['Intercept']\n",
    "    sv_vec = sv_lgbm.abs().mean().sort_values(ascending=False)\n",
    "    print('\\nAvg Shap Vals')\n",
    "    \n",
    "    print(sv_vec)\n",
    "    out_dict={}\n",
    "    out_dict['ll_test'] = ll_test\n",
    "    out_dict['model'] = lgbm1\n",
    "    out_dict['shap_val_avgs'] = sv_vec\n",
    "    out_dict['preds_test'] = preds_lgbm_test\n",
    "    return(out_dict)"
   ]
  },
  {
   "cell_type": "code",
   "execution_count": 7,
   "id": "e217c1f8-792d-4177-9b00-478bc689d96f",
   "metadata": {},
   "outputs": [],
   "source": [
    "features0 = ['OBP_162_h','OBP_162_v',\n",
    "            'SLG_162_h','SLG_162_v',\n",
    "            'Strt_WHIP_35_h','Strt_WHIP_35_v',\n",
    "            'Strt_TB_BB_perc_35_h', 'Strt_TB_BB_perc_35_v',\n",
    "            'Strt_H_BB_perc_35_h', 'Strt_H_BB_perc_35_v',\n",
    "            'Strt_SO_perc_10_h', 'Strt_SO_perc_10_v',\n",
    "            'Bpen_WHIP_75_h','Bpen_WHIP_75_v',\n",
    "            'Bpen_TB_BB_perc_75_h', 'Bpen_TB_BB_perc_75_v',\n",
    "            'Bpen_H_BB_perc_75_h', 'Bpen_H_BB_perc_75_v',\n",
    "            'Bpen_SO_perc_75_h', 'Bpen_SO_perc_75_v',\n",
    "            'Bpen_WHIP_35_h','Bpen_WHIP_35_v',\n",
    "            'Bpen_TB_BB_perc_35_h', 'Bpen_TB_BB_perc_35_v',\n",
    "            'Bpen_H_BB_perc_35_h', 'Bpen_H_BB_perc_35_v',\n",
    "            'Bpen_SO_perc_35_h', 'Bpen_SO_perc_35_v',\n",
    "            'Bpen_WHIP_10_h','Bpen_WHIP_10_v',\n",
    "            'Bpen_TB_BB_perc_10_h', 'Bpen_TB_BB_perc_10_v',\n",
    "            'Bpen_H_BB_perc_10_h', 'Bpen_H_BB_perc_10_v',\n",
    "            'Bpen_SO_perc_10_h', 'Bpen_SO_perc_10_v']"
   ]
  },
  {
   "cell_type": "code",
   "execution_count": 8,
   "id": "4b9bafeb-f204-4621-921d-d670d7ce3112",
   "metadata": {
    "scrolled": true
   },
   "outputs": [
    {
     "name": "stdout",
     "output_type": "stream",
     "text": [
      "[LightGBM] [Info] Number of positive: 46023, number of negative: 39337\n",
      "[LightGBM] [Warning] Auto-choosing col-wise multi-threading, the overhead of testing was 0.011154 seconds.\n",
      "You can set `force_col_wise=true` to remove the overhead.\n",
      "[LightGBM] [Info] Total Bins 9180\n",
      "[LightGBM] [Info] Number of data points in the train set: 85360, number of used features: 36\n",
      "[LightGBM] [Info] [binary:BoostFromScore]: pavg=0.539164 -> initscore=0.156976\n",
      "[LightGBM] [Info] Start training from score 0.156976\n",
      "Training until validation scores don't improve for 50 rounds\n",
      "Early stopping, best iteration is:\n",
      "[603]\tvalid_0's binary_logloss: 0.672806\n",
      "\n",
      "Vegas probs: 0.6675629431340582 on test\n",
      "model probs: 0.6714934504802158 on test\n",
      "\n",
      "Difference: 0.00393050734615763 on test\n",
      "\n",
      "Avg Shap Vals\n",
      "Intercept               0.159327\n",
      "Strt_SO_perc_10_h       0.079810\n",
      "Strt_SO_perc_10_v       0.079673\n",
      "OBP_162_v               0.062744\n",
      "Strt_WHIP_35_v          0.053249\n",
      "Strt_WHIP_35_h          0.052227\n",
      "OBP_162_h               0.049028\n",
      "SLG_162_h               0.042581\n",
      "Strt_TB_BB_perc_35_h    0.038303\n",
      "SLG_162_v               0.036303\n",
      "Strt_TB_BB_perc_35_v    0.028727\n",
      "Bpen_SO_perc_75_v       0.027517\n",
      "Bpen_TB_BB_perc_75_h    0.020753\n",
      "Strt_H_BB_perc_35_v     0.020017\n",
      "Bpen_H_BB_perc_75_h     0.019552\n",
      "Strt_H_BB_perc_35_h     0.017008\n",
      "Bpen_H_BB_perc_35_v     0.015744\n",
      "Bpen_H_BB_perc_35_h     0.015580\n",
      "Bpen_TB_BB_perc_75_v    0.015470\n",
      "Bpen_TB_BB_perc_10_v    0.012017\n",
      "Bpen_H_BB_perc_75_v     0.011478\n",
      "Bpen_SO_perc_75_h       0.009620\n",
      "Bpen_SO_perc_35_v       0.008338\n",
      "Bpen_TB_BB_perc_35_v    0.008269\n",
      "Bpen_WHIP_10_v          0.006688\n",
      "Bpen_SO_perc_10_v       0.006545\n",
      "Bpen_SO_perc_35_h       0.004529\n",
      "Bpen_WHIP_75_v          0.002865\n",
      "Bpen_TB_BB_perc_35_h    0.001956\n",
      "Bpen_WHIP_35_h          0.001544\n",
      "Bpen_H_BB_perc_10_h     0.001032\n",
      "Bpen_WHIP_75_h          0.000892\n",
      "Bpen_SO_perc_10_h       0.000889\n",
      "Bpen_WHIP_10_h          0.000534\n",
      "Bpen_TB_BB_perc_10_h    0.000525\n",
      "Bpen_WHIP_35_v          0.000506\n",
      "Bpen_H_BB_perc_10_v     0.000333\n",
      "dtype: float64\n"
     ]
    }
   ],
   "source": [
    "d0 = try_features(features0)"
   ]
  },
  {
   "cell_type": "code",
   "execution_count": 9,
   "id": "72936a54-8f39-4ec8-a618-bc96c3f7fe66",
   "metadata": {},
   "outputs": [],
   "source": [
    "f_lineup_a = [\n",
    "            'lineup9_OBP_162_h','lineup9_OBP_162_v',\n",
    "            'lineup9_SLG_162_h','lineup9_SLG_162_v',\n",
    "]\n",
    "\n",
    "features1 = features0 + f_lineup_a"
   ]
  },
  {
   "cell_type": "code",
   "execution_count": 10,
   "id": "60c53475-8aaf-46a8-b99b-f4408010c1e8",
   "metadata": {
    "scrolled": true
   },
   "outputs": [
    {
     "name": "stdout",
     "output_type": "stream",
     "text": [
      "[LightGBM] [Info] Number of positive: 46023, number of negative: 39337\n",
      "[LightGBM] [Warning] Auto-choosing col-wise multi-threading, the overhead of testing was 0.008931 seconds.\n",
      "You can set `force_col_wise=true` to remove the overhead.\n",
      "[LightGBM] [Info] Total Bins 10200\n",
      "[LightGBM] [Info] Number of data points in the train set: 85360, number of used features: 40\n",
      "[LightGBM] [Info] [binary:BoostFromScore]: pavg=0.539164 -> initscore=0.156976\n",
      "[LightGBM] [Info] Start training from score 0.156976\n",
      "Training until validation scores don't improve for 50 rounds\n",
      "Early stopping, best iteration is:\n",
      "[638]\tvalid_0's binary_logloss: 0.672435\n",
      "\n",
      "Vegas probs: 0.6675629431340582 on test\n",
      "model probs: 0.6705352971803024 on test\n",
      "\n",
      "Difference: 0.0029723540462441855 on test\n",
      "\n",
      "Avg Shap Vals\n",
      "Intercept               0.159555\n",
      "Strt_SO_perc_10_v       0.078905\n",
      "Strt_SO_perc_10_h       0.076724\n",
      "Strt_WHIP_35_h          0.049814\n",
      "Strt_WHIP_35_v          0.049799\n",
      "lineup9_SLG_162_v       0.046246\n",
      "OBP_162_v               0.046119\n",
      "lineup9_OBP_162_h       0.039379\n",
      "Strt_TB_BB_perc_35_h    0.037868\n",
      "OBP_162_h               0.032273\n",
      "SLG_162_h               0.029090\n",
      "lineup9_OBP_162_v       0.028973\n",
      "Strt_TB_BB_perc_35_v    0.028790\n",
      "lineup9_SLG_162_h       0.027474\n",
      "Bpen_SO_perc_75_v       0.022732\n",
      "Bpen_H_BB_perc_75_h     0.018313\n",
      "Bpen_TB_BB_perc_75_h    0.018100\n",
      "Strt_H_BB_perc_35_v     0.017948\n",
      "Bpen_H_BB_perc_35_v     0.016293\n",
      "Bpen_H_BB_perc_35_h     0.016142\n",
      "SLG_162_v               0.016088\n",
      "Bpen_TB_BB_perc_75_v    0.015897\n",
      "Strt_H_BB_perc_35_h     0.014248\n",
      "Bpen_TB_BB_perc_10_v    0.011232\n",
      "Bpen_H_BB_perc_75_v     0.008077\n",
      "Bpen_SO_perc_35_v       0.007236\n",
      "Bpen_WHIP_10_v          0.006809\n",
      "Bpen_SO_perc_10_v       0.006621\n",
      "Bpen_SO_perc_75_h       0.006247\n",
      "Bpen_TB_BB_perc_35_v    0.006200\n",
      "Bpen_SO_perc_35_h       0.003013\n",
      "Bpen_WHIP_75_v          0.002305\n",
      "Bpen_H_BB_perc_10_h     0.002043\n",
      "Bpen_TB_BB_perc_35_h    0.001377\n",
      "Bpen_WHIP_75_h          0.000906\n",
      "Bpen_WHIP_35_h          0.000592\n",
      "Bpen_WHIP_35_v          0.000567\n",
      "Bpen_WHIP_10_h          0.000537\n",
      "Bpen_TB_BB_perc_10_h    0.000526\n",
      "Bpen_SO_perc_10_h       0.000344\n",
      "Bpen_H_BB_perc_10_v     0.000070\n",
      "dtype: float64\n"
     ]
    }
   ],
   "source": [
    "d1 = try_features(features1)"
   ]
  },
  {
   "cell_type": "code",
   "execution_count": 11,
   "id": "0507a3d6-7e22-4d3e-a433-25e7033c553a",
   "metadata": {},
   "outputs": [],
   "source": [
    "discreps_lv1 = (d1['preds_test']-df_test.implied_prob_h_mid).to_numpy() # With lineup features"
   ]
  },
  {
   "cell_type": "code",
   "execution_count": 12,
   "id": "0ec303b6-66ce-4014-9339-9751cbaa9841",
   "metadata": {},
   "outputs": [
    {
     "data": {
      "image/png": "[encoded data removed]",
      "text/plain": [
       "<Figure size 640x480 with 1 Axes>"
      ]
     },
     "metadata": {},
     "output_type": "display_data"
    }
   ],
   "source": [
    "plt.hist(discreps_lv1, bins=np.linspace(-.2,.2,41), alpha=.5, color='blue');"
   ]
  },
  {
   "cell_type": "code",
   "execution_count": null,
   "id": "ab1d032a-e03f-43dc-83d1-580a4e54a230",
   "metadata": {},
   "outputs": [],
   "source": []
  }
 ],
 "metadata": {
  "kernelspec": {
   "display_name": "Python 3 (ipykernel)",
   "language": "python",
   "name": "python3"
  },
  "language_info": {
   "codemirror_mode": {
    "name": "ipython",
    "version": 3
   },
   "file_extension": ".py",
   "mimetype": "text/x-python",
   "name": "python",
   "nbconvert_exporter": "python",
   "pygments_lexer": "ipython3",
   "version": "3.10.12"
  }
 },
 "nbformat": 4,
 "nbformat_minor": 5
}
