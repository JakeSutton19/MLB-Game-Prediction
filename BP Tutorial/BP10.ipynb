{
 "cells": [
  {
   "cell_type": "code",
   "execution_count": 1,
   "id": "fd3a5203-6bbf-4302-91da-58757a5b9c78",
   "metadata": {},
   "outputs": [],
   "source": [
    "import numpy as np\n",
    "import pandas as pd\n",
    "import matplotlib.pyplot as plt\n",
    "\n",
    "import lightgbm as lgbm\n",
    "import structureboost as stb\n",
    "import ml_insights as mli\n",
    "from structureboost import log_loss\n",
    "pd.set_option('display.max_columns',1000)\n",
    "pd.set_option('display.max_rows',1000)"
   ]
  },
  {
   "cell_type": "markdown",
   "id": "a469bfa3-911b-46dc-9479-b5400134ebe4",
   "metadata": {},
   "source": [
    "# Add Lineup to Model\n",
    "- Last time we scraped individual batter data for the 6400+ players who have appeared in a starting lineup between 1980 and 2022.\n",
    "- We then processed the data to get statistics about the trailing performance of each of the players before each game in which they started.\n",
    "- Using this, we were able to get features related to each player that could be used to predict each game. We then averaged across the lineup in several different ways to come up with a variety of lineup related statistics.\n",
    "\n",
    "\n",
    "Now, we will add these features to the model and see how much improvement we get"
   ]
  },
  {
   "cell_type": "code",
   "execution_count": 3,
   "id": "9a2405bc-21f0-46ec-a4c3-a90795859e35",
   "metadata": {},
   "outputs": [
    {
     "name": "stderr",
     "output_type": "stream",
     "text": [
      "/tmp/ipykernel_112931/623349023.py:1: DtypeWarning: Columns (13,14,15,19,85,87,159,198) have mixed types. Specify dtype option on import or set low_memory=False.\n",
      "  df=pd.read_csv('Data/df_bp9.csv')\n"
     ]
    }
   ],
   "source": [
    "df=pd.read_csv('Data/df_bp9.csv')"
   ]
  },
  {
   "cell_type": "code",
   "execution_count": 4,
   "id": "6032c251-9135-4ff3-8674-d19008410d50",
   "metadata": {},
   "outputs": [
    {
     "data": {
      "text/plain": [
       "(96215, 1235)"
      ]
     },
     "execution_count": 4,
     "metadata": {},
     "output_type": "execute_result"
    }
   ],
   "source": [
    "df = df[df.run_diff!=0]\n",
    "df_train = df[(df.season>1980) & (df.season<=2018) & ~(df.OBP_162_h.isnull())]\n",
    "df_valid = df[(df.season>=2019) & (df.season<=2020)]\n",
    "df_test = df[df.season>=2021]\n",
    "df_test_val = df[df.season>=2019]\n",
    "df.shape"
   ]
  },
  {
   "cell_type": "code",
   "execution_count": 6,
   "id": "60d38161-827c-442e-a8aa-8428bce27dcc",
   "metadata": {},
   "outputs": [],
   "source": [
    "hv_mean = df_train.home_victory.mean()"
   ]
  },
  {
   "cell_type": "code",
   "execution_count": 7,
   "id": "0f492df5-659e-42ca-8b20-aaf2801e2754",
   "metadata": {},
   "outputs": [],
   "source": [
    "target = 'home_victory'\n",
    "\n",
    "y_train = df_train[target].to_numpy()\n",
    "y_valid = df_valid[target].to_numpy()\n",
    "y_test = df_test[target].to_numpy()"
   ]
  },
  {
   "cell_type": "code",
   "execution_count": 8,
   "id": "91da4e5b-1a36-4b2c-b253-032aed047ab7",
   "metadata": {},
   "outputs": [],
   "source": [
    "def try_features(feat_set, max_depth=2):\n",
    "    target = 'home_victory'\n",
    "    X_train = df_train.loc[:,feat_set]\n",
    "    X_valid = df_valid.loc[:,feat_set]\n",
    "    X_test = df_test.loc[:,feat_set]\n",
    "\n",
    "\n",
    "\n",
    "    lgbm1 = lgbm.LGBMClassifier(n_estimators=1000, learning_rate=.02, max_depth=max_depth)\n",
    "    lgbm1.fit(X_train, y_train, eval_set=(X_valid, y_valid), eval_metric='logloss', \n",
    "          callbacks=[lgbm.early_stopping(stopping_rounds=50)])\n",
    "    \n",
    "    preds_lgbm_test = lgbm1.predict_proba(X_test)[:,1]\n",
    "    ll_test = log_loss(y_test, preds_lgbm_test)\n",
    "\n",
    "    print(f'\\nVegas probs: {log_loss(y_test,df_test.implied_prob_h_mid)} on test')\n",
    "    print(f'model probs: {ll_test} on test')\n",
    "\n",
    "    print(f'\\nDifference: {ll_test - log_loss(y_test,df_test.implied_prob_h_mid)} on test')\n",
    "\n",
    "    sv_lgbm = lgbm1.predict(X_test, pred_contrib=True)\n",
    "    sv_lgbm = pd.DataFrame(sv_lgbm)\n",
    "    sv_lgbm.columns = list(X_test.columns)+['Intercept']\n",
    "    sv_vec = sv_lgbm.abs().mean().sort_values(ascending=False)\n",
    "    print('\\nAvg Shap Vals')\n",
    "    \n",
    "    print(sv_vec)\n",
    "    out_dict={}\n",
    "    out_dict['ll_test'] = ll_test\n",
    "    out_dict['model'] = lgbm1\n",
    "    out_dict['shap_val_avgs'] = sv_vec\n",
    "    out_dict['preds_test'] = preds_lgbm_test\n",
    "    return(out_dict)"
   ]
  },
  {
   "cell_type": "code",
   "execution_count": 9,
   "id": "5a1a20ad-32ff-4685-8f03-f18634344b3a",
   "metadata": {},
   "outputs": [],
   "source": [
    "features0 = ['OBP_162_h','OBP_162_v',\n",
    "            'SLG_162_h','SLG_162_v',\n",
    "            'Strt_WHIP_35_h','Strt_WHIP_35_v',\n",
    "            'Strt_TB_BB_perc_35_h', 'Strt_TB_BB_perc_35_v',\n",
    "            'Strt_H_BB_perc_35_h', 'Strt_H_BB_perc_35_v',\n",
    "            'Strt_SO_perc_10_h', 'Strt_SO_perc_10_v',\n",
    "            'Bpen_WHIP_75_h','Bpen_WHIP_75_v',\n",
    "            'Bpen_TB_BB_perc_75_h', 'Bpen_TB_BB_perc_75_v',\n",
    "            'Bpen_H_BB_perc_75_h', 'Bpen_H_BB_perc_75_v',\n",
    "            'Bpen_SO_perc_75_h', 'Bpen_SO_perc_75_v',\n",
    "            'Bpen_WHIP_35_h','Bpen_WHIP_35_v',\n",
    "            'Bpen_TB_BB_perc_35_h', 'Bpen_TB_BB_perc_35_v',\n",
    "            'Bpen_H_BB_perc_35_h', 'Bpen_H_BB_perc_35_v',\n",
    "            'Bpen_SO_perc_35_h', 'Bpen_SO_perc_35_v',\n",
    "            'Bpen_WHIP_10_h','Bpen_WHIP_10_v',\n",
    "            'Bpen_TB_BB_perc_10_h', 'Bpen_TB_BB_perc_10_v',\n",
    "            'Bpen_H_BB_perc_10_h', 'Bpen_H_BB_perc_10_v',\n",
    "            'Bpen_SO_perc_10_h', 'Bpen_SO_perc_10_v']"
   ]
  },
  {
   "cell_type": "code",
   "execution_count": 10,
   "id": "739e1132-e4f8-45cd-b6e2-1f90ae8b53ee",
   "metadata": {
    "scrolled": true
   },
   "outputs": [
    {
     "name": "stdout",
     "output_type": "stream",
     "text": [
      "[LightGBM] [Info] Number of positive: 46023, number of negative: 39337\n",
      "[LightGBM] [Warning] Auto-choosing col-wise multi-threading, the overhead of testing was 0.012615 seconds.\n",
      "You can set `force_col_wise=true` to remove the overhead.\n",
      "[LightGBM] [Info] Total Bins 9180\n",
      "[LightGBM] [Info] Number of data points in the train set: 85360, number of used features: 36\n",
      "[LightGBM] [Info] [binary:BoostFromScore]: pavg=0.539164 -> initscore=0.156976\n",
      "[LightGBM] [Info] Start training from score 0.156976\n",
      "Training until validation scores don't improve for 50 rounds\n",
      "Early stopping, best iteration is:\n",
      "[603]\tvalid_0's binary_logloss: 0.672806\n",
      "\n",
      "Vegas probs: 0.6675629431340582 on test\n",
      "model probs: 0.6714934504802158 on test\n",
      "\n",
      "Difference: 0.00393050734615763 on test\n",
      "\n",
      "Avg Shap Vals\n",
      "Intercept               0.159327\n",
      "Strt_SO_perc_10_h       0.079810\n",
      "Strt_SO_perc_10_v       0.079673\n",
      "OBP_162_v               0.062744\n",
      "Strt_WHIP_35_v          0.053249\n",
      "Strt_WHIP_35_h          0.052227\n",
      "OBP_162_h               0.049028\n",
      "SLG_162_h               0.042581\n",
      "Strt_TB_BB_perc_35_h    0.038303\n",
      "SLG_162_v               0.036303\n",
      "Strt_TB_BB_perc_35_v    0.028727\n",
      "Bpen_SO_perc_75_v       0.027517\n",
      "Bpen_TB_BB_perc_75_h    0.020753\n",
      "Strt_H_BB_perc_35_v     0.020017\n",
      "Bpen_H_BB_perc_75_h     0.019552\n",
      "Strt_H_BB_perc_35_h     0.017008\n",
      "Bpen_H_BB_perc_35_v     0.015744\n",
      "Bpen_H_BB_perc_35_h     0.015580\n",
      "Bpen_TB_BB_perc_75_v    0.015470\n",
      "Bpen_TB_BB_perc_10_v    0.012017\n",
      "Bpen_H_BB_perc_75_v     0.011478\n",
      "Bpen_SO_perc_75_h       0.009620\n",
      "Bpen_SO_perc_35_v       0.008338\n",
      "Bpen_TB_BB_perc_35_v    0.008269\n",
      "Bpen_WHIP_10_v          0.006688\n",
      "Bpen_SO_perc_10_v       0.006545\n",
      "Bpen_SO_perc_35_h       0.004529\n",
      "Bpen_WHIP_75_v          0.002865\n",
      "Bpen_TB_BB_perc_35_h    0.001956\n",
      "Bpen_WHIP_35_h          0.001544\n",
      "Bpen_H_BB_perc_10_h     0.001032\n",
      "Bpen_WHIP_75_h          0.000892\n",
      "Bpen_SO_perc_10_h       0.000889\n",
      "Bpen_WHIP_10_h          0.000534\n",
      "Bpen_TB_BB_perc_10_h    0.000525\n",
      "Bpen_WHIP_35_v          0.000506\n",
      "Bpen_H_BB_perc_10_v     0.000333\n",
      "dtype: float64\n"
     ]
    }
   ],
   "source": [
    "d0 = try_features(features0)"
   ]
  },
  {
   "cell_type": "code",
   "execution_count": 11,
   "id": "b406b692-508c-4dbf-8099-5345f38ab27b",
   "metadata": {},
   "outputs": [],
   "source": [
    "f_lineup_a = [\n",
    "            'lineup9_OBP_162_h','lineup9_OBP_162_v',\n",
    "            'lineup9_SLG_162_h','lineup9_SLG_162_v',\n",
    "]\n",
    "\n",
    "features1 = features0 + f_lineup_a\n"
   ]
  },
  {
   "cell_type": "code",
   "execution_count": 12,
   "id": "c32efa35-973f-4fb7-b46c-3e5578373001",
   "metadata": {
    "scrolled": true
   },
   "outputs": [
    {
     "name": "stdout",
     "output_type": "stream",
     "text": [
      "[LightGBM] [Info] Number of positive: 46023, number of negative: 39337\n",
      "[LightGBM] [Warning] Auto-choosing col-wise multi-threading, the overhead of testing was 0.013948 seconds.\n",
      "You can set `force_col_wise=true` to remove the overhead.\n",
      "[LightGBM] [Info] Total Bins 10200\n",
      "[LightGBM] [Info] Number of data points in the train set: 85360, number of used features: 40\n",
      "[LightGBM] [Info] [binary:BoostFromScore]: pavg=0.539164 -> initscore=0.156976\n",
      "[LightGBM] [Info] Start training from score 0.156976\n",
      "Training until validation scores don't improve for 50 rounds\n",
      "Early stopping, best iteration is:\n",
      "[638]\tvalid_0's binary_logloss: 0.672435\n",
      "\n",
      "Vegas probs: 0.6675629431340582 on test\n",
      "model probs: 0.6705352971803024 on test\n",
      "\n",
      "Difference: 0.0029723540462441855 on test\n",
      "\n",
      "Avg Shap Vals\n",
      "Intercept               0.159555\n",
      "Strt_SO_perc_10_v       0.078905\n",
      "Strt_SO_perc_10_h       0.076724\n",
      "Strt_WHIP_35_h          0.049814\n",
      "Strt_WHIP_35_v          0.049799\n",
      "lineup9_SLG_162_v       0.046246\n",
      "OBP_162_v               0.046119\n",
      "lineup9_OBP_162_h       0.039379\n",
      "Strt_TB_BB_perc_35_h    0.037868\n",
      "OBP_162_h               0.032273\n",
      "SLG_162_h               0.029090\n",
      "lineup9_OBP_162_v       0.028973\n",
      "Strt_TB_BB_perc_35_v    0.028790\n",
      "lineup9_SLG_162_h       0.027474\n",
      "Bpen_SO_perc_75_v       0.022732\n",
      "Bpen_H_BB_perc_75_h     0.018313\n",
      "Bpen_TB_BB_perc_75_h    0.018100\n",
      "Strt_H_BB_perc_35_v     0.017948\n",
      "Bpen_H_BB_perc_35_v     0.016293\n",
      "Bpen_H_BB_perc_35_h     0.016142\n",
      "SLG_162_v               0.016088\n",
      "Bpen_TB_BB_perc_75_v    0.015897\n",
      "Strt_H_BB_perc_35_h     0.014248\n",
      "Bpen_TB_BB_perc_10_v    0.011232\n",
      "Bpen_H_BB_perc_75_v     0.008077\n",
      "Bpen_SO_perc_35_v       0.007236\n",
      "Bpen_WHIP_10_v          0.006809\n",
      "Bpen_SO_perc_10_v       0.006621\n",
      "Bpen_SO_perc_75_h       0.006247\n",
      "Bpen_TB_BB_perc_35_v    0.006200\n",
      "Bpen_SO_perc_35_h       0.003013\n",
      "Bpen_WHIP_75_v          0.002305\n",
      "Bpen_H_BB_perc_10_h     0.002043\n",
      "Bpen_TB_BB_perc_35_h    0.001377\n",
      "Bpen_WHIP_75_h          0.000906\n",
      "Bpen_WHIP_35_h          0.000592\n",
      "Bpen_WHIP_35_v          0.000567\n",
      "Bpen_WHIP_10_h          0.000537\n",
      "Bpen_TB_BB_perc_10_h    0.000526\n",
      "Bpen_SO_perc_10_h       0.000344\n",
      "Bpen_H_BB_perc_10_v     0.000070\n",
      "dtype: float64\n"
     ]
    }
   ],
   "source": [
    "d1 = try_features(features1)"
   ]
  },
  {
   "cell_type": "markdown",
   "id": "aa7693f3-6ac8-4ff0-8618-bf56c53967ec",
   "metadata": {},
   "source": [
    "# let's use the individual batters instead"
   ]
  },
  {
   "cell_type": "code",
   "execution_count": 14,
   "id": "513ad540-d7ae-4c94-be23-858572f5d28f",
   "metadata": {},
   "outputs": [],
   "source": [
    "slg_indiv_cols = [x for x in df.columns if '_b' in x and 'SLG_162' in x]\n",
    "obp_indiv_cols = [x for x in df.columns if '_b' in x and 'OBP_162' in x]"
   ]
  },
  {
   "cell_type": "code",
   "execution_count": 21,
   "id": "688aa72b-1b74-48ca-9be9-fb324a3dc9be",
   "metadata": {
    "scrolled": true
   },
   "outputs": [
    {
     "name": "stdout",
     "output_type": "stream",
     "text": [
      "[LightGBM] [Info] Number of positive: 46023, number of negative: 39337\n",
      "[LightGBM] [Warning] Auto-choosing col-wise multi-threading, the overhead of testing was 0.024874 seconds.\n",
      "You can set `force_col_wise=true` to remove the overhead.\n",
      "[LightGBM] [Info] Total Bins 18360\n",
      "[LightGBM] [Info] Number of data points in the train set: 85360, number of used features: 72\n",
      "[LightGBM] [Info] [binary:BoostFromScore]: pavg=0.539164 -> initscore=0.156976\n",
      "[LightGBM] [Info] Start training from score 0.156976\n",
      "Training until validation scores don't improve for 50 rounds\n",
      "Early stopping, best iteration is:\n",
      "[796]\tvalid_0's binary_logloss: 0.672782\n",
      "\n",
      "Vegas probs: 0.6675629431340582 on test\n",
      "model probs: 0.6709353210174647 on test\n",
      "\n",
      "Difference: 0.0033723778834064966 on test\n",
      "\n",
      "Avg Shap Vals\n",
      "Intercept               0.159590\n",
      "Strt_SO_perc_10_h       0.077401\n",
      "Strt_SO_perc_10_v       0.075277\n",
      "Strt_WHIP_35_v          0.051338\n",
      "Strt_WHIP_35_h          0.050682\n",
      "OBP_162_v               0.034845\n",
      "Strt_TB_BB_perc_35_h    0.032385\n",
      "OBP_162_h               0.028112\n",
      "Strt_TB_BB_perc_35_v    0.027394\n",
      "SLG_162_h               0.026130\n",
      "Bpen_SO_perc_75_v       0.021102\n",
      "SLG_162_v               0.020718\n",
      "OBP_162_b4_h            0.019850\n",
      "Bpen_TB_BB_perc_75_h    0.018917\n",
      "Bpen_H_BB_perc_75_h     0.018361\n",
      "OBP_162_b5_h            0.018353\n",
      "Strt_H_BB_perc_35_v     0.018317\n",
      "Strt_H_BB_perc_35_h     0.016999\n",
      "Bpen_H_BB_perc_35_v     0.015924\n",
      "Bpen_H_BB_perc_35_h     0.015916\n",
      "Bpen_TB_BB_perc_75_v    0.015648\n",
      "OBP_162_b7_h            0.015400\n",
      "SLG_162_b6_h            0.015305\n",
      "SLG_162_b2_v            0.014293\n",
      "OBP_162_b4_v            0.014027\n",
      "OBP_162_b3_v            0.013315\n",
      "SLG_162_b2_h            0.013305\n",
      "SLG_162_b4_v            0.013294\n",
      "SLG_162_b5_v            0.012539\n",
      "OBP_162_b8_h            0.011624\n",
      "Bpen_TB_BB_perc_10_v    0.011080\n",
      "OBP_162_b8_v            0.010781\n",
      "OBP_162_b7_v            0.010718\n",
      "SLG_162_b6_v            0.010152\n",
      "SLG_162_b7_v            0.009857\n",
      "OBP_162_b6_v            0.009566\n",
      "Bpen_H_BB_perc_75_v     0.009227\n",
      "Bpen_SO_perc_75_h       0.009072\n",
      "OBP_162_b5_v            0.008735\n",
      "OBP_162_b9_h            0.008678\n",
      "Bpen_TB_BB_perc_35_v    0.006797\n",
      "Bpen_WHIP_10_v          0.006316\n",
      "SLG_162_b4_h            0.005700\n",
      "OBP_162_b2_v            0.005275\n",
      "OBP_162_b2_h            0.005250\n",
      "SLG_162_b9_h            0.004960\n",
      "Bpen_SO_perc_10_v       0.004680\n",
      "OBP_162_b6_h            0.004581\n",
      "OBP_162_b9_v            0.004581\n",
      "OBP_162_b3_h            0.004557\n",
      "SLG_162_b3_v            0.004350\n",
      "Bpen_SO_perc_35_v       0.004149\n",
      "OBP_162_b1_v            0.003392\n",
      "SLG_162_b1_h            0.003275\n",
      "SLG_162_b9_v            0.003218\n",
      "Bpen_SO_perc_35_h       0.003020\n",
      "OBP_162_b1_h            0.002842\n",
      "Bpen_WHIP_35_v          0.002688\n",
      "SLG_162_b1_v            0.002169\n",
      "Bpen_WHIP_75_v          0.002112\n",
      "SLG_162_b8_v            0.002090\n",
      "Bpen_SO_perc_10_h       0.001837\n",
      "Bpen_WHIP_35_h          0.001766\n",
      "SLG_162_b5_h            0.001196\n",
      "Bpen_WHIP_75_h          0.000620\n",
      "SLG_162_b3_h            0.000598\n",
      "Bpen_TB_BB_perc_35_h    0.000524\n",
      "SLG_162_b7_h            0.000399\n",
      "Bpen_WHIP_10_h          0.000302\n",
      "SLG_162_b8_h            0.000187\n",
      "Bpen_TB_BB_perc_10_h    0.000135\n",
      "Bpen_H_BB_perc_10_h     0.000073\n",
      "Bpen_H_BB_perc_10_v     0.000000\n",
      "dtype: float64\n"
     ]
    }
   ],
   "source": [
    "features2 = features0 + slg_indiv_cols + obp_indiv_cols\n",
    "d2 = try_features(features2, max_depth=2)"
   ]
  },
  {
   "cell_type": "code",
   "execution_count": 16,
   "id": "31b52bd4-f7cd-4279-9359-d5871bb50b4b",
   "metadata": {
    "scrolled": true
   },
   "outputs": [
    {
     "name": "stdout",
     "output_type": "stream",
     "text": [
      "[LightGBM] [Info] Number of positive: 46023, number of negative: 39337\n",
      "[LightGBM] [Warning] Auto-choosing col-wise multi-threading, the overhead of testing was 0.019269 seconds.\n",
      "You can set `force_col_wise=true` to remove the overhead.\n",
      "[LightGBM] [Info] Total Bins 19380\n",
      "[LightGBM] [Info] Number of data points in the train set: 85360, number of used features: 76\n",
      "[LightGBM] [Info] [binary:BoostFromScore]: pavg=0.539164 -> initscore=0.156976\n",
      "[LightGBM] [Info] Start training from score 0.156976\n",
      "Training until validation scores don't improve for 50 rounds\n",
      "Early stopping, best iteration is:\n",
      "[682]\tvalid_0's binary_logloss: 0.673246\n",
      "\n",
      "Vegas probs: 0.6675629431340582 on test\n",
      "model probs: 0.6707024876736312 on test\n",
      "\n",
      "Difference: 0.0031395445395729915 on test\n",
      "\n",
      "Avg Shap Vals\n",
      "Intercept               0.159591\n",
      "Strt_SO_perc_10_v       0.075456\n",
      "Strt_SO_perc_10_h       0.074175\n",
      "Strt_WHIP_35_v          0.049813\n",
      "Strt_WHIP_35_h          0.049416\n",
      "lineup9_SLG_162_v       0.036923\n",
      "lineup9_OBP_162_h       0.034067\n",
      "Strt_TB_BB_perc_35_h    0.033047\n",
      "OBP_162_v               0.032848\n",
      "Strt_TB_BB_perc_35_v    0.027396\n",
      "lineup9_SLG_162_h       0.027338\n",
      "lineup9_OBP_162_v       0.026404\n",
      "Bpen_SO_perc_75_v       0.022422\n",
      "OBP_162_h               0.022118\n",
      "SLG_162_h               0.021023\n",
      "Bpen_TB_BB_perc_75_h    0.017818\n",
      "Strt_H_BB_perc_35_v     0.017721\n",
      "Bpen_H_BB_perc_75_h     0.017607\n",
      "Bpen_H_BB_perc_35_h     0.017109\n",
      "Bpen_H_BB_perc_35_v     0.016296\n",
      "OBP_162_b4_h            0.015640\n",
      "Strt_H_BB_perc_35_h     0.015549\n",
      "Bpen_TB_BB_perc_75_v    0.015134\n",
      "OBP_162_b5_h            0.012030\n",
      "SLG_162_v               0.011767\n",
      "Bpen_TB_BB_perc_10_v    0.011174\n",
      "SLG_162_b4_v            0.010542\n",
      "OBP_162_b3_v            0.010540\n",
      "OBP_162_b4_v            0.009853\n",
      "Bpen_H_BB_perc_75_v     0.009149\n",
      "OBP_162_b7_h            0.008475\n",
      "SLG_162_b2_h            0.007704\n",
      "SLG_162_b5_v            0.006931\n",
      "Bpen_SO_perc_75_h       0.006528\n",
      "Bpen_TB_BB_perc_35_v    0.006467\n",
      "SLG_162_b2_v            0.006130\n",
      "Bpen_WHIP_10_v          0.006104\n",
      "SLG_162_b6_v            0.005960\n",
      "SLG_162_b6_h            0.005792\n",
      "OBP_162_b7_v            0.004825\n",
      "OBP_162_b5_v            0.004795\n",
      "Bpen_SO_perc_10_v       0.004561\n",
      "Bpen_SO_perc_35_v       0.003420\n",
      "OBP_162_b6_h            0.003390\n",
      "SLG_162_b4_h            0.002912\n",
      "SLG_162_b7_v            0.002798\n",
      "Bpen_SO_perc_35_h       0.002588\n",
      "OBP_162_b2_v            0.002384\n",
      "SLG_162_b9_h            0.002328\n",
      "OBP_162_b6_v            0.002106\n",
      "SLG_162_b3_v            0.001935\n",
      "Bpen_WHIP_75_v          0.001858\n",
      "OBP_162_b9_h            0.001788\n",
      "Bpen_SO_perc_10_h       0.001776\n",
      "OBP_162_b3_h            0.001352\n",
      "Bpen_H_BB_perc_10_h     0.001332\n",
      "OBP_162_b1_h            0.001323\n",
      "Bpen_WHIP_35_v          0.001172\n",
      "OBP_162_b8_h            0.001106\n",
      "OBP_162_b8_v            0.001105\n",
      "Bpen_WHIP_75_h          0.000874\n",
      "OBP_162_b2_h            0.000804\n",
      "OBP_162_b9_v            0.000626\n",
      "SLG_162_b5_h            0.000556\n",
      "SLG_162_b8_v            0.000430\n",
      "Bpen_TB_BB_perc_10_h    0.000366\n",
      "SLG_162_b1_v            0.000208\n",
      "SLG_162_b7_h            0.000186\n",
      "Bpen_WHIP_10_h          0.000179\n",
      "Bpen_H_BB_perc_10_v     0.000000\n",
      "SLG_162_b8_h            0.000000\n",
      "SLG_162_b3_h            0.000000\n",
      "SLG_162_b1_h            0.000000\n",
      "OBP_162_b1_v            0.000000\n",
      "SLG_162_b9_v            0.000000\n",
      "Bpen_TB_BB_perc_35_h    0.000000\n",
      "Bpen_WHIP_35_h          0.000000\n",
      "dtype: float64\n"
     ]
    }
   ],
   "source": [
    "features3 = features0 + slg_indiv_cols + obp_indiv_cols + f_lineup_a\n",
    "d3 = try_features(features3)"
   ]
  },
  {
   "cell_type": "code",
   "execution_count": 17,
   "id": "205a7ac4-c019-40f7-a3a6-c93e7996af5d",
   "metadata": {
    "scrolled": true
   },
   "outputs": [
    {
     "name": "stdout",
     "output_type": "stream",
     "text": [
      "[LightGBM] [Info] Number of positive: 46023, number of negative: 39337\n",
      "[LightGBM] [Warning] Auto-choosing col-wise multi-threading, the overhead of testing was 0.010821 seconds.\n",
      "You can set `force_col_wise=true` to remove the overhead.\n",
      "[LightGBM] [Info] Total Bins 11730\n",
      "[LightGBM] [Info] Number of data points in the train set: 85360, number of used features: 46\n",
      "[LightGBM] [Info] [binary:BoostFromScore]: pavg=0.539164 -> initscore=0.156976\n",
      "[LightGBM] [Info] Start training from score 0.156976\n",
      "Training until validation scores don't improve for 50 rounds\n",
      "Early stopping, best iteration is:\n",
      "[623]\tvalid_0's binary_logloss: 0.672366\n",
      "\n",
      "Vegas probs: 0.6675629431340582 on test\n",
      "model probs: 0.6708940129178201 on test\n",
      "\n",
      "Difference: 0.003331069783761964 on test\n",
      "\n",
      "Avg Shap Vals\n",
      "Intercept                   0.159527\n",
      "Strt_SO_perc_10_v           0.077992\n",
      "Strt_SO_perc_10_h           0.074549\n",
      "Strt_WHIP_35_h              0.050565\n",
      "Strt_WHIP_35_v              0.049127\n",
      "OBP_162_v                   0.044349\n",
      "Strt_TB_BB_perc_35_h        0.036797\n",
      "OBP_162_h                   0.034321\n",
      "lineup9_SLG_162_v           0.032150\n",
      "Strt_TB_BB_perc_35_v        0.028561\n",
      "lineup9_OBP_162_h           0.026273\n",
      "Bpen_SO_perc_75_v           0.025243\n",
      "lineup9_OBP_162_v           0.024673\n",
      "SLG_162_h                   0.024598\n",
      "lineup9_OBS_162_h           0.021423\n",
      "lineup9_SLGmod_162_h        0.018608\n",
      "Bpen_TB_BB_perc_75_h        0.018277\n",
      "Strt_H_BB_perc_35_v         0.017910\n",
      "Bpen_H_BB_perc_35_v         0.017147\n",
      "Bpen_H_BB_perc_75_h         0.016954\n",
      "SLG_162_v                   0.016861\n",
      "lineup9_OBS_162_v           0.016724\n",
      "Bpen_H_BB_perc_35_h         0.016658\n",
      "Bpen_TB_BB_perc_75_v        0.015460\n",
      "lineup9_SLG_162_h           0.014917\n",
      "Strt_H_BB_perc_35_h         0.013260\n",
      "Bpen_TB_BB_perc_10_v        0.010591\n",
      "Bpen_H_BB_perc_75_v         0.008160\n",
      "Bpen_SO_perc_10_v           0.006610\n",
      "Bpen_TB_BB_perc_35_v        0.006430\n",
      "Bpen_WHIP_10_v              0.006413\n",
      "Bpen_SO_perc_35_v           0.006206\n",
      "Bpen_SO_perc_75_h           0.005038\n",
      "lineup9_SLGmod_162_v        0.002979\n",
      "Bpen_SO_perc_35_h           0.002963\n",
      "Bpen_WHIP_75_v              0.002419\n",
      "lineup9_SObat_perc_162_v    0.002415\n",
      "lineup9_SObat_perc_162_h    0.001939\n",
      "Bpen_H_BB_perc_10_h         0.001712\n",
      "Bpen_TB_BB_perc_35_h        0.001221\n",
      "Bpen_SO_perc_10_h           0.000837\n",
      "Bpen_WHIP_75_h              0.000740\n",
      "Bpen_WHIP_10_h              0.000621\n",
      "Bpen_WHIP_35_h              0.000579\n",
      "Bpen_WHIP_35_v              0.000337\n",
      "Bpen_TB_BB_perc_10_h        0.000269\n",
      "Bpen_H_BB_perc_10_v         0.000070\n",
      "dtype: float64\n"
     ]
    }
   ],
   "source": [
    "f_lineup_b =  [\n",
    "            'lineup9_OBS_162_h','lineup9_OBS_162_v',\n",
    "            'lineup9_SLGmod_162_h','lineup9_SLGmod_162_v',\n",
    "            'lineup9_SObat_perc_162_h','lineup9_SObat_perc_162_v',\n",
    "]\n",
    "features4 = features0  +f_lineup_a + f_lineup_b\n",
    "d4 = try_features(features4)"
   ]
  },
  {
   "cell_type": "code",
   "execution_count": 18,
   "id": "36768d92-2fb4-41a8-a8d1-72320cb961fe",
   "metadata": {
    "scrolled": true
   },
   "outputs": [
    {
     "name": "stdout",
     "output_type": "stream",
     "text": [
      "[LightGBM] [Info] Number of positive: 46023, number of negative: 39337\n",
      "[LightGBM] [Warning] Auto-choosing col-wise multi-threading, the overhead of testing was 0.014538 seconds.\n",
      "You can set `force_col_wise=true` to remove the overhead.\n",
      "[LightGBM] [Info] Total Bins 10200\n",
      "[LightGBM] [Info] Number of data points in the train set: 85360, number of used features: 40\n",
      "[LightGBM] [Info] [binary:BoostFromScore]: pavg=0.539164 -> initscore=0.156976\n",
      "[LightGBM] [Info] Start training from score 0.156976\n",
      "Training until validation scores don't improve for 50 rounds\n",
      "Early stopping, best iteration is:\n",
      "[600]\tvalid_0's binary_logloss: 0.672809\n",
      "\n",
      "Vegas probs: 0.6675629431340582 on test\n",
      "model probs: 0.6706923517627169 on test\n",
      "\n",
      "Difference: 0.0031294086286587364 on test\n",
      "\n",
      "Avg Shap Vals\n",
      "Intercept               0.159474\n",
      "Strt_SO_perc_10_v       0.077399\n",
      "Strt_SO_perc_10_h       0.075030\n",
      "Strt_WHIP_35_h          0.050404\n",
      "Strt_WHIP_35_v          0.049398\n",
      "lineup9_SLG_162_w_v     0.045528\n",
      "OBP_162_v               0.043659\n",
      "lineup9_OBP_162_w_h     0.040744\n",
      "Strt_TB_BB_perc_35_h    0.036655\n",
      "OBP_162_h               0.031251\n",
      "Strt_TB_BB_perc_35_v    0.029193\n",
      "SLG_162_h               0.027844\n",
      "lineup9_OBP_162_w_v     0.027621\n",
      "lineup9_SLG_162_w_h     0.024308\n",
      "Bpen_SO_perc_75_v       0.023814\n",
      "Bpen_H_BB_perc_75_h     0.018120\n",
      "Strt_H_BB_perc_35_v     0.017528\n",
      "Bpen_H_BB_perc_35_h     0.017390\n",
      "Bpen_H_BB_perc_35_v     0.017301\n",
      "Bpen_TB_BB_perc_75_h    0.016069\n",
      "Bpen_TB_BB_perc_75_v    0.015540\n",
      "SLG_162_v               0.015036\n",
      "Strt_H_BB_perc_35_h     0.013838\n",
      "Bpen_TB_BB_perc_10_v    0.010163\n",
      "Bpen_H_BB_perc_75_v     0.007770\n",
      "Bpen_WHIP_10_v          0.006740\n",
      "Bpen_TB_BB_perc_35_v    0.006603\n",
      "Bpen_SO_perc_75_h       0.006391\n",
      "Bpen_SO_perc_10_v       0.005737\n",
      "Bpen_SO_perc_35_v       0.004997\n",
      "Bpen_SO_perc_35_h       0.002670\n",
      "Bpen_H_BB_perc_10_h     0.002516\n",
      "Bpen_WHIP_75_v          0.002205\n",
      "Bpen_TB_BB_perc_35_h    0.000939\n",
      "Bpen_WHIP_75_h          0.000497\n",
      "Bpen_WHIP_10_h          0.000479\n",
      "Bpen_SO_perc_10_h       0.000373\n",
      "Bpen_TB_BB_perc_10_h    0.000269\n",
      "Bpen_H_BB_perc_10_v     0.000227\n",
      "Bpen_WHIP_35_v          0.000216\n",
      "Bpen_WHIP_35_h          0.000039\n",
      "dtype: float64\n"
     ]
    }
   ],
   "source": [
    "f_lineup_a_w =  [\n",
    "            'lineup9_OBP_162_w_h','lineup9_OBP_162_w_v',\n",
    "            'lineup9_SLG_162_w_h','lineup9_SLG_162_w_v',\n",
    "]\n",
    "features5 = features0+f_lineup_a_w\n",
    "d5 = try_features(features5)"
   ]
  },
  {
   "cell_type": "code",
   "execution_count": 19,
   "id": "774fdd1a-90c2-4a0f-8343-3a1efb635505",
   "metadata": {
    "scrolled": true
   },
   "outputs": [
    {
     "name": "stdout",
     "output_type": "stream",
     "text": [
      "[LightGBM] [Info] Number of positive: 46023, number of negative: 39337\n",
      "[LightGBM] [Warning] Auto-choosing col-wise multi-threading, the overhead of testing was 0.014272 seconds.\n",
      "You can set `force_col_wise=true` to remove the overhead.\n",
      "[LightGBM] [Info] Total Bins 10200\n",
      "[LightGBM] [Info] Number of data points in the train set: 85360, number of used features: 40\n",
      "[LightGBM] [Info] [binary:BoostFromScore]: pavg=0.539164 -> initscore=0.156976\n",
      "[LightGBM] [Info] Start training from score 0.156976\n",
      "Training until validation scores don't improve for 50 rounds\n",
      "Early stopping, best iteration is:\n",
      "[692]\tvalid_0's binary_logloss: 0.672222\n",
      "\n",
      "Vegas probs: 0.6675629431340582 on test\n",
      "model probs: 0.6708831364548522 on test\n",
      "\n",
      "Difference: 0.0033201933207940293 on test\n",
      "\n",
      "Avg Shap Vals\n",
      "Intercept               0.159653\n",
      "Strt_SO_perc_10_v       0.079157\n",
      "Strt_SO_perc_10_h       0.078095\n",
      "Strt_WHIP_35_h          0.051509\n",
      "Strt_WHIP_35_v          0.049820\n",
      "OBP_162_v               0.043097\n",
      "lineup8_SLG_162_w_v     0.041712\n",
      "Strt_TB_BB_perc_35_h    0.037195\n",
      "OBP_162_h               0.036146\n",
      "lineup8_SLG_162_w_h     0.033945\n",
      "Strt_TB_BB_perc_35_v    0.031319\n",
      "lineup8_OBP_162_w_v     0.031020\n",
      "SLG_162_h               0.027495\n",
      "Bpen_SO_perc_75_v       0.027473\n",
      "lineup8_OBP_162_w_h     0.025486\n",
      "Bpen_TB_BB_perc_75_h    0.019316\n",
      "Strt_H_BB_perc_35_v     0.018402\n",
      "SLG_162_v               0.018105\n",
      "Bpen_H_BB_perc_75_h     0.017623\n",
      "Bpen_H_BB_perc_35_h     0.017335\n",
      "Strt_H_BB_perc_35_h     0.015987\n",
      "Bpen_TB_BB_perc_75_v    0.015915\n",
      "Bpen_H_BB_perc_35_v     0.015856\n",
      "Bpen_TB_BB_perc_10_v    0.012588\n",
      "Bpen_SO_perc_75_h       0.008931\n",
      "Bpen_SO_perc_10_v       0.008059\n",
      "Bpen_H_BB_perc_75_v     0.007724\n",
      "Bpen_SO_perc_35_v       0.006611\n",
      "Bpen_TB_BB_perc_35_v    0.006476\n",
      "Bpen_WHIP_10_v          0.006326\n",
      "Bpen_SO_perc_35_h       0.003577\n",
      "Bpen_WHIP_75_v          0.003305\n",
      "Bpen_WHIP_75_h          0.001574\n",
      "Bpen_TB_BB_perc_35_h    0.001249\n",
      "Bpen_TB_BB_perc_10_h    0.001149\n",
      "Bpen_WHIP_35_v          0.000886\n",
      "Bpen_H_BB_perc_10_h     0.000851\n",
      "Bpen_WHIP_35_h          0.000679\n",
      "Bpen_WHIP_10_h          0.000579\n",
      "Bpen_H_BB_perc_10_v     0.000416\n",
      "Bpen_SO_perc_10_h       0.000386\n",
      "dtype: float64\n"
     ]
    }
   ],
   "source": [
    "f_lineup_a_8 =  [\n",
    "            'lineup8_OBP_162_w_h','lineup8_OBP_162_w_v',\n",
    "            'lineup8_SLG_162_w_h','lineup8_SLG_162_w_v',\n",
    "]\n",
    "features6 = features0+f_lineup_a_8\n",
    "d6 = try_features(features6)\n"
   ]
  },
  {
   "cell_type": "code",
   "execution_count": 22,
   "id": "7ae676f4-452a-4247-a2e9-49c87b605ce6",
   "metadata": {
    "scrolled": true
   },
   "outputs": [
    {
     "name": "stdout",
     "output_type": "stream",
     "text": [
      "[LightGBM] [Info] Number of positive: 46023, number of negative: 39337\n",
      "[LightGBM] [Warning] Auto-choosing col-wise multi-threading, the overhead of testing was 0.016530 seconds.\n",
      "You can set `force_col_wise=true` to remove the overhead.\n",
      "[LightGBM] [Info] Total Bins 12240\n",
      "[LightGBM] [Info] Number of data points in the train set: 85360, number of used features: 48\n",
      "[LightGBM] [Info] [binary:BoostFromScore]: pavg=0.539164 -> initscore=0.156976\n",
      "[LightGBM] [Info] Start training from score 0.156976\n",
      "Training until validation scores don't improve for 50 rounds\n",
      "Early stopping, best iteration is:\n",
      "[711]\tvalid_0's binary_logloss: 0.671724\n",
      "\n",
      "Vegas probs: 0.6675629431340582 on test\n",
      "model probs: 0.6708389917475919 on test\n",
      "\n",
      "Difference: 0.0032760486135336997 on test\n",
      "\n",
      "Avg Shap Vals\n",
      "Intercept               0.159720\n",
      "Strt_SO_perc_10_v       0.079459\n",
      "Strt_SO_perc_10_h       0.078243\n",
      "Strt_WHIP_35_h          0.049559\n",
      "Strt_WHIP_35_v          0.047634\n",
      "OBP_162_v               0.042887\n",
      "Strt_TB_BB_perc_35_h    0.037791\n",
      "OBP_162_h               0.029735\n",
      "Strt_TB_BB_perc_35_v    0.029715\n",
      "lineup9_SLG_350_v       0.028720\n",
      "Bpen_SO_perc_75_v       0.027461\n",
      "SLG_162_h               0.026482\n",
      "Strt_H_BB_perc_35_v     0.018825\n",
      "lineup9_OBP_162_h       0.018630\n",
      "Bpen_H_BB_perc_35_h     0.018452\n",
      "Bpen_H_BB_perc_75_h     0.018078\n",
      "Bpen_H_BB_perc_35_v     0.017657\n",
      "Bpen_TB_BB_perc_75_h    0.017503\n",
      "Bpen_TB_BB_perc_75_v    0.016533\n",
      "lineup9_SLG_75_h        0.016041\n",
      "lineup9_OBP_162_v       0.015847\n",
      "SLG_162_v               0.015711\n",
      "lineup9_SLG_162_h       0.015409\n",
      "lineup9_SLG_162_v       0.014999\n",
      "lineup9_SLG_350_h       0.014673\n",
      "Strt_H_BB_perc_35_h     0.013448\n",
      "lineup9_SLG_75_v        0.011663\n",
      "Bpen_TB_BB_perc_10_v    0.011599\n",
      "lineup9_OBP_75_h        0.011479\n",
      "lineup9_OBP_350_h       0.009454\n",
      "lineup9_OBP_75_v        0.009293\n",
      "lineup9_OBP_350_v       0.008246\n",
      "Bpen_H_BB_perc_75_v     0.007543\n",
      "Bpen_SO_perc_10_v       0.007373\n",
      "Bpen_WHIP_10_v          0.007060\n",
      "Bpen_SO_perc_75_h       0.006850\n",
      "Bpen_TB_BB_perc_35_v    0.005041\n",
      "Bpen_SO_perc_35_v       0.004183\n",
      "Bpen_SO_perc_35_h       0.003976\n",
      "Bpen_WHIP_75_v          0.002340\n",
      "Bpen_TB_BB_perc_35_h    0.001625\n",
      "Bpen_H_BB_perc_10_h     0.001162\n",
      "Bpen_WHIP_35_v          0.000665\n",
      "Bpen_WHIP_35_h          0.000665\n",
      "Bpen_WHIP_75_h          0.000508\n",
      "Bpen_WHIP_10_h          0.000491\n",
      "Bpen_SO_perc_10_h       0.000459\n",
      "Bpen_H_BB_perc_10_v     0.000259\n",
      "Bpen_TB_BB_perc_10_h    0.000178\n",
      "dtype: float64\n"
     ]
    }
   ],
   "source": [
    "f_lineup_c = [\n",
    "            'lineup9_OBP_350_h','lineup9_OBP_350_v',\n",
    "            'lineup9_SLG_350_h','lineup9_SLG_350_v',\n",
    "]\n",
    "\n",
    "f_lineup_d = [\n",
    "            'lineup9_OBP_75_h','lineup9_OBP_75_v',\n",
    "            'lineup9_SLG_75_h','lineup9_SLG_75_v',\n",
    "]\n",
    "features7 = features0 + f_lineup_a + f_lineup_c+ f_lineup_d\n",
    "d7 = try_features(features7, max_depth=2)"
   ]
  },
  {
   "cell_type": "code",
   "execution_count": 23,
   "id": "5e48d30c-1a7f-4a88-b0c0-66a78d14b9ca",
   "metadata": {},
   "outputs": [
    {
     "name": "stdout",
     "output_type": "stream",
     "text": [
      "[LightGBM] [Info] Number of positive: 46023, number of negative: 39337\n",
      "[LightGBM] [Warning] Auto-choosing row-wise multi-threading, the overhead of testing was 0.000381 seconds.\n",
      "You can set `force_row_wise=true` to remove the overhead.\n",
      "And if memory is not enough, you can set `force_col_wise=true`.\n",
      "[LightGBM] [Info] Total Bins 1020\n",
      "[LightGBM] [Info] Number of data points in the train set: 85360, number of used features: 4\n",
      "[LightGBM] [Info] [binary:BoostFromScore]: pavg=0.539164 -> initscore=0.156976\n",
      "[LightGBM] [Info] Start training from score 0.156976\n",
      "Training until validation scores don't improve for 50 rounds\n",
      "Early stopping, best iteration is:\n",
      "[387]\tvalid_0's binary_logloss: 0.680537\n",
      "\n",
      "Vegas probs: 0.6675629431340582 on test\n",
      "model probs: 0.6826330119526713 on test\n",
      "\n",
      "Difference: 0.01507006881861317 on test\n",
      "\n",
      "Avg Shap Vals\n",
      "Intercept    0.158083\n",
      "OBP_162_v    0.091542\n",
      "OBP_162_h    0.083872\n",
      "SLG_162_h    0.050312\n",
      "SLG_162_v    0.041161\n",
      "dtype: float64\n"
     ]
    }
   ],
   "source": [
    "f_simple = ['OBP_162_h','OBP_162_v',\n",
    "            'SLG_162_h','SLG_162_v']\n",
    "\n",
    "features8 = f_simple\n",
    "d8 = try_features(features8, max_depth=2)"
   ]
  },
  {
   "cell_type": "markdown",
   "id": "0df94534-7236-436a-9833-783d2d0cc9f7",
   "metadata": {},
   "source": [
    "# Model Analysis\n",
    "\n",
    "- Is there any other evidence that this last enhancement \"improved\" the model?\n",
    "- LV model is still better overall, but are we \"adding any value\"? Is our model \"catching\" anything they are not?"
   ]
  },
  {
   "cell_type": "code",
   "execution_count": 24,
   "id": "8d94cc26-db3c-4101-a0d3-5bf4bd400fe9",
   "metadata": {},
   "outputs": [],
   "source": [
    "discreps_lv0 = (d0['preds_test']-df_test.implied_prob_h_mid).to_numpy() # Without lineup features\n",
    "discreps_lv1 = (d1['preds_test']-df_test.implied_prob_h_mid).to_numpy() # With lineup features"
   ]
  },
  {
   "cell_type": "code",
   "execution_count": 25,
   "id": "d317f5f1-bed5-40cf-a6b0-2bf7d381fd7e",
   "metadata": {},
   "outputs": [
    {
     "data": {
      "image/png": "[encoded data removed]",
      "text/plain": [
       "<Figure size 640x480 with 1 Axes>"
      ]
     },
     "metadata": {},
     "output_type": "display_data"
    }
   ],
   "source": [
    "plt.hist(discreps_lv1, bins=np.linspace(-.2,.2,41), alpha=.5, color='blue');\n",
    "plt.hist(discreps_lv0, bins=np.linspace(-.2,.2,41), alpha=.5, color='yellow');"
   ]
  },
  {
   "cell_type": "code",
   "execution_count": 26,
   "id": "86931595-9e4b-48af-9891-adcda38252dc",
   "metadata": {},
   "outputs": [
    {
     "data": {
      "text/plain": [
       "(0.039928205954805084, 0.04331229062145613)"
      ]
     },
     "execution_count": 26,
     "metadata": {},
     "output_type": "execute_result"
    }
   ],
   "source": [
    "np.mean(np.abs(discreps_lv1)), np.mean(np.abs(discreps_lv0))"
   ]
  },
  {
   "cell_type": "code",
   "execution_count": 27,
   "id": "c252052e-9aa0-4834-ad3c-7b850ec83937",
   "metadata": {},
   "outputs": [],
   "source": [
    "weak_model_preds = d8['preds_test']\n",
    "strong_model_preds = d1['preds_test']"
   ]
  },
  {
   "cell_type": "code",
   "execution_count": 28,
   "id": "314a11c6-23ec-426c-bf14-36c53bd99af2",
   "metadata": {},
   "outputs": [
    {
     "data": {
      "text/plain": [
       "[<matplotlib.lines.Line2D at 0x7f95ea136650>]"
      ]
     },
     "execution_count": 28,
     "metadata": {},
     "output_type": "execute_result"
    },
    {
     "data": {
      "image/png": "[encoded data removed]",
      "text/plain": [
       "<Figure size 640x480 with 1 Axes>"
      ]
     },
     "metadata": {},
     "output_type": "display_data"
    }
   ],
   "source": [
    "## Mixing in our first (very simple) model\n",
    "ll_mix_vec_weak = [log_loss(y_test, (k*weak_model_preds+(1-k)*df_test.implied_prob_h_mid)) for k in np.linspace(0,1,101)]\n",
    "plt.plot(ll_mix_vec_weak)"
   ]
  },
  {
   "cell_type": "code",
   "execution_count": 29,
   "id": "8dd33aaf-5880-406d-b23e-aaf4805d28ed",
   "metadata": {},
   "outputs": [
    {
     "data": {
      "text/plain": [
       "(1.0983347986881498e-05, 3)"
      ]
     },
     "execution_count": 29,
     "metadata": {},
     "output_type": "execute_result"
    }
   ],
   "source": [
    "ll_mix_vec_weak[0] - np.min(ll_mix_vec_weak), np.argmin(ll_mix_vec_weak)"
   ]
  },
  {
   "cell_type": "code",
   "execution_count": 30,
   "id": "c41be444-73fd-4b7d-b370-8164921dbf66",
   "metadata": {},
   "outputs": [
    {
     "data": {
      "text/plain": [
       "[<matplotlib.lines.Line2D at 0x7f95f185c7f0>]"
      ]
     },
     "execution_count": 30,
     "metadata": {},
     "output_type": "execute_result"
    },
    {
     "data": {
      "image/png": "[encoded data removed]",
      "text/plain": [
       "<Figure size 640x480 with 1 Axes>"
      ]
     },
     "metadata": {},
     "output_type": "display_data"
    }
   ],
   "source": [
    "## Mixing in our latest model\n",
    "ll_mix_vec_strong = [log_loss(y_test, (k*strong_model_preds+(1-k)*df_test.implied_prob_h_mid)) for k in np.linspace(0,1,101)]\n",
    "plt.plot(ll_mix_vec_strong)"
   ]
  },
  {
   "cell_type": "code",
   "execution_count": 31,
   "id": "3c6f54f6-3312-4682-b5bd-84fccc42c52b",
   "metadata": {},
   "outputs": [
    {
     "data": {
      "text/plain": [
       "(0.00023233442797521153, 21)"
      ]
     },
     "execution_count": 31,
     "metadata": {},
     "output_type": "execute_result"
    }
   ],
   "source": [
    "ll_mix_vec_strong[0] - np.min(ll_mix_vec_strong), np.argmin(ll_mix_vec_strong)"
   ]
  },
  {
   "cell_type": "code",
   "execution_count": 32,
   "id": "7e4677fd-1289-4ff2-95b7-7b441511d6c3",
   "metadata": {},
   "outputs": [],
   "source": [
    "# Simulate different model variations on a single test set\n",
    "# Gives a sense of how much different models (each with the same quality) will vary\n",
    "def ll_model_discrep_shuffle(probvec_true, discreps, num_trials, answers):\n",
    "    # sim_outcome = np.random.binomial(n=1, p=probvec_true)\n",
    "    llvec_mod = np.zeros(num_trials)\n",
    "    discr1 = discreps.copy()\n",
    "    for i in range(num_trials):\n",
    "        np.random.shuffle(discr1)\n",
    "        pv_mod = pv_true  + discr1\n",
    "        llvec_mod[i] = log_loss(answers, pv_mod)\n",
    "    return(llvec_mod)"
   ]
  },
  {
   "cell_type": "code",
   "execution_count": 33,
   "id": "4751655d-d27f-4ca0-be72-f289ae745ece",
   "metadata": {},
   "outputs": [],
   "source": [
    "pv_true = df_test.implied_prob_h_mid\n",
    "losses = ll_model_discrep_shuffle(pv_true, discreps_lv1, 10000, y_test)"
   ]
  },
  {
   "cell_type": "code",
   "execution_count": 34,
   "id": "47823429-58bf-4a1b-b9a1-34928621e736",
   "metadata": {},
   "outputs": [
    {
     "data": {
      "text/plain": [
       "<matplotlib.collections.LineCollection at 0x7f95f184fa60>"
      ]
     },
     "execution_count": 34,
     "metadata": {},
     "output_type": "execute_result"
    },
    {
     "data": {
      "image/png": "[encoded data removed]",
      "text/plain": [
       "<Figure size 1200x400 with 1 Axes>"
      ]
     },
     "metadata": {},
     "output_type": "display_data"
    }
   ],
   "source": [
    "plt.figure(figsize=(12,4))\n",
    "plt.hist(losses, bins=100);\n",
    "plt.xlim([.665,.685]);\n",
    "plt.vlines(x=log_loss(y_test, strong_model_preds), ymin=0, ymax=200, color='k', linestyle='--')"
   ]
  },
  {
   "cell_type": "markdown",
   "id": "6f738d6d-a447-4ab7-96a7-9f4b6e21978e",
   "metadata": {},
   "source": [
    "# Conclusions\n",
    "- We went from ~40bps to ~30bps by adding lineup variables OBS, SLG (for home and away)\n",
    "- Changing variants, adding more variables did not seem to improve at all\n",
    "- Vegas model is still better overall, but evidence that our model captures effects that they don't\n"
   ]
  },
  {
   "cell_type": "markdown",
   "id": "22d3fa57-9db6-447e-97fc-22b094af0fb6",
   "metadata": {},
   "source": [
    "# Next Steps\n",
    "\n",
    "- model runs scored\n",
    "  - That will help predict the O/U\n",
    "  - May help predict winner of game\n",
    "  - Use probablistic regression to get a distribution on runs scored instead of a point estimate"
   ]
  },
  {
   "cell_type": "code",
   "execution_count": null,
   "id": "23d266bf-5856-4726-881d-9167d4ba78fe",
   "metadata": {},
   "outputs": [],
   "source": []
  }
 ],
 "metadata": {
  "kernelspec": {
   "display_name": "Python 3 (ipykernel)",
   "language": "python",
   "name": "python3"
  },
  "language_info": {
   "codemirror_mode": {
    "name": "ipython",
    "version": 3
   },
   "file_extension": ".py",
   "mimetype": "text/x-python",
   "name": "python",
   "nbconvert_exporter": "python",
   "pygments_lexer": "ipython3",
   "version": "3.10.12"
  }
 },
 "nbformat": 4,
 "nbformat_minor": 5
}
